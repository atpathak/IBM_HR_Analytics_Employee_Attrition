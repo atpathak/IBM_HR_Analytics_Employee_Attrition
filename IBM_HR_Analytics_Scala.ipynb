{
 "cells": [
  {
   "cell_type": "code",
   "execution_count": 1,
   "metadata": {},
   "outputs": [
    {
     "data": {
      "text/plain": [
       "Intitializing Scala interpreter ..."
      ]
     },
     "metadata": {},
     "output_type": "display_data"
    },
    {
     "data": {
      "text/plain": [
       "Spark Web UI available at http://atanus-air.cinci.rr.com:4040\n",
       "SparkContext available as 'sc' (version = 3.0.0, master = local[*], app id = local-1598634019269)\n",
       "SparkSession available as 'spark'\n"
      ]
     },
     "metadata": {},
     "output_type": "display_data"
    },
    {
     "data": {
      "text/plain": [
       "import org.apache.spark.ml.evaluation.MulticlassClassificationEvaluator\n",
       "import org.apache.spark.mllib.evaluation.MulticlassMetrics\n",
       "import org.apache.spark.mllib.evaluation.BinaryClassificationMetrics\n",
       "import org.apache.spark.ml.classification.RandomForestClassifier\n",
       "import org.apache.spark.ml.tuning.{ParamGridBuilder, TrainValidationSplit, CrossValidator}\n",
       "import org.apache.spark.ml.feature.{VectorAssembler, StringIndexer, OneHotEncoder}\n",
       "import org.apache.spark.ml.linalg.Vectors\n",
       "import org.apache.spark.ml.{Pipeline, PipelineModel}\n",
       "import org.apache.log4j._\n"
      ]
     },
     "execution_count": 1,
     "metadata": {},
     "output_type": "execute_result"
    }
   ],
   "source": [
    "import org.apache.spark.ml.evaluation.MulticlassClassificationEvaluator  \n",
    "import org.apache.spark.mllib.evaluation.MulticlassMetrics  \n",
    "import org.apache.spark.mllib.evaluation.BinaryClassificationMetrics  \n",
    "import org.apache.spark.ml.classification.RandomForestClassifier  \n",
    "import org.apache.spark.ml.tuning.{ParamGridBuilder, TrainValidationSplit, CrossValidator}  \n",
    "import org.apache.spark.ml.feature.{VectorAssembler, StringIndexer, OneHotEncoder}  \n",
    "import org.apache.spark.ml.linalg.Vectors  \n",
    "import org.apache.spark.ml.{Pipeline, PipelineModel}  \n",
    "import org.apache.log4j._  \n",
    "Logger.getLogger(\"org\").setLevel(Level.ERROR)"
   ]
  },
  {
   "cell_type": "code",
   "execution_count": 2,
   "metadata": {},
   "outputs": [
    {
     "data": {
      "text/plain": [
       "import org.apache.spark.sql.SparkSession\n",
       "spark: org.apache.spark.sql.SparkSession = org.apache.spark.sql.SparkSession@1c5b4d09\n"
      ]
     },
     "execution_count": 2,
     "metadata": {},
     "output_type": "execute_result"
    }
   ],
   "source": [
    "import org.apache.spark.sql.SparkSession\n",
    "val spark = SparkSession.builder().getOrCreate()"
   ]
  },
  {
   "cell_type": "code",
   "execution_count": 3,
   "metadata": {},
   "outputs": [
    {
     "data": {
      "text/plain": [
       "data: org.apache.spark.sql.DataFrame = [Age: int, Attrition: string ... 33 more fields]\n"
      ]
     },
     "execution_count": 3,
     "metadata": {},
     "output_type": "execute_result"
    }
   ],
   "source": [
    "val data = spark.read.option(\"header\",\"true\").\n",
    "    option(\"inferSchema\",\"true\").\n",
    "    format(\"csv\").\n",
    "    load(\"WA_Fn-UseC_-HR-Employee-Attrition.csv\")"
   ]
  },
  {
   "cell_type": "code",
   "execution_count": 4,
   "metadata": {},
   "outputs": [
    {
     "name": "stdout",
     "output_type": "stream",
     "text": [
      "+---+---------+-----------------+---------+--------------------+----------------+---------+--------------+-------------+--------------+-----------------------+------+----------+--------------+--------+--------------------+---------------+-------------+-------------+-----------+------------------+------+--------+-----------------+-----------------+------------------------+-------------+----------------+-----------------+---------------------+---------------+--------------+------------------+-----------------------+--------------------+\n",
      "|Age|Attrition|   BusinessTravel|DailyRate|          Department|DistanceFromHome|Education|EducationField|EmployeeCount|EmployeeNumber|EnvironmentSatisfaction|Gender|HourlyRate|JobInvolvement|JobLevel|             JobRole|JobSatisfaction|MaritalStatus|MonthlyIncome|MonthlyRate|NumCompaniesWorked|Over18|OverTime|PercentSalaryHike|PerformanceRating|RelationshipSatisfaction|StandardHours|StockOptionLevel|TotalWorkingYears|TrainingTimesLastYear|WorkLifeBalance|YearsAtCompany|YearsInCurrentRole|YearsSinceLastPromotion|YearsWithCurrManager|\n",
      "+---+---------+-----------------+---------+--------------------+----------------+---------+--------------+-------------+--------------+-----------------------+------+----------+--------------+--------+--------------------+---------------+-------------+-------------+-----------+------------------+------+--------+-----------------+-----------------+------------------------+-------------+----------------+-----------------+---------------------+---------------+--------------+------------------+-----------------------+--------------------+\n",
      "| 41|      Yes|    Travel_Rarely|     1102|               Sales|               1|        2| Life Sciences|            1|             1|                      2|Female|        94|             3|       2|     Sales Executive|              4|       Single|         5993|      19479|                 8|     Y|     Yes|               11|                3|                       1|           80|               0|                8|                    0|              1|             6|                 4|                      0|                   5|\n",
      "| 49|       No|Travel_Frequently|      279|Research & Develo...|               8|        1| Life Sciences|            1|             2|                      3|  Male|        61|             2|       2|  Research Scientist|              2|      Married|         5130|      24907|                 1|     Y|      No|               23|                4|                       4|           80|               1|               10|                    3|              3|            10|                 7|                      1|                   7|\n",
      "| 37|      Yes|    Travel_Rarely|     1373|Research & Develo...|               2|        2|         Other|            1|             4|                      4|  Male|        92|             2|       1|Laboratory Techni...|              3|       Single|         2090|       2396|                 6|     Y|     Yes|               15|                3|                       2|           80|               0|                7|                    3|              3|             0|                 0|                      0|                   0|\n",
      "| 33|       No|Travel_Frequently|     1392|Research & Develo...|               3|        4| Life Sciences|            1|             5|                      4|Female|        56|             3|       1|  Research Scientist|              3|      Married|         2909|      23159|                 1|     Y|     Yes|               11|                3|                       3|           80|               0|                8|                    3|              3|             8|                 7|                      3|                   0|\n",
      "| 27|       No|    Travel_Rarely|      591|Research & Develo...|               2|        1|       Medical|            1|             7|                      1|  Male|        40|             3|       1|Laboratory Techni...|              2|      Married|         3468|      16632|                 9|     Y|      No|               12|                3|                       4|           80|               1|                6|                    3|              3|             2|                 2|                      2|                   2|\n",
      "| 32|       No|Travel_Frequently|     1005|Research & Develo...|               2|        2| Life Sciences|            1|             8|                      4|  Male|        79|             3|       1|Laboratory Techni...|              4|       Single|         3068|      11864|                 0|     Y|      No|               13|                3|                       3|           80|               0|                8|                    2|              2|             7|                 7|                      3|                   6|\n",
      "| 59|       No|    Travel_Rarely|     1324|Research & Develo...|               3|        3|       Medical|            1|            10|                      3|Female|        81|             4|       1|Laboratory Techni...|              1|      Married|         2670|       9964|                 4|     Y|     Yes|               20|                4|                       1|           80|               3|               12|                    3|              2|             1|                 0|                      0|                   0|\n",
      "| 30|       No|    Travel_Rarely|     1358|Research & Develo...|              24|        1| Life Sciences|            1|            11|                      4|  Male|        67|             3|       1|Laboratory Techni...|              3|     Divorced|         2693|      13335|                 1|     Y|      No|               22|                4|                       2|           80|               1|                1|                    2|              3|             1|                 0|                      0|                   0|\n",
      "| 38|       No|Travel_Frequently|      216|Research & Develo...|              23|        3| Life Sciences|            1|            12|                      4|  Male|        44|             2|       3|Manufacturing Dir...|              3|       Single|         9526|       8787|                 0|     Y|      No|               21|                4|                       2|           80|               0|               10|                    2|              3|             9|                 7|                      1|                   8|\n",
      "| 36|       No|    Travel_Rarely|     1299|Research & Develo...|              27|        3|       Medical|            1|            13|                      3|  Male|        94|             3|       2|Healthcare Repres...|              3|      Married|         5237|      16577|                 6|     Y|      No|               13|                3|                       2|           80|               2|               17|                    3|              2|             7|                 7|                      7|                   7|\n",
      "+---+---------+-----------------+---------+--------------------+----------------+---------+--------------+-------------+--------------+-----------------------+------+----------+--------------+--------+--------------------+---------------+-------------+-------------+-----------+------------------+------+--------+-----------------+-----------------+------------------------+-------------+----------------+-----------------+---------------------+---------------+--------------+------------------+-----------------------+--------------------+\n",
      "only showing top 10 rows\n",
      "\n"
     ]
    }
   ],
   "source": [
    "data.show(10)"
   ]
  },
  {
   "cell_type": "code",
   "execution_count": 6,
   "metadata": {},
   "outputs": [
    {
     "data": {
      "text/plain": [
       "res2: Array[String] = Array(Age, Attrition, BusinessTravel, DailyRate, Department, DistanceFromHome, Education, EducationField, EmployeeCount, EmployeeNumber, EnvironmentSatisfaction, Gender, HourlyRate, JobInvolvement, JobLevel, JobRole, JobSatisfaction, MaritalStatus, MonthlyIncome, MonthlyRate, NumCompaniesWorked, Over18, OverTime, PercentSalaryHike, PerformanceRating, RelationshipSatisfaction, StandardHours, StockOptionLevel, TotalWorkingYears, TrainingTimesLastYear, WorkLifeBalance, YearsAtCompany, YearsInCurrentRole, YearsSinceLastPromotion, YearsWithCurrManager)\n"
      ]
     },
     "execution_count": 6,
     "metadata": {},
     "output_type": "execute_result"
    }
   ],
   "source": [
    "data.columns"
   ]
  },
  {
   "cell_type": "code",
   "execution_count": 11,
   "metadata": {},
   "outputs": [
    {
     "data": {
      "text/plain": [
       "res8: Array[(String, String)] = Array((Age,IntegerType), (Attrition,StringType), (BusinessTravel,StringType), (DailyRate,IntegerType), (Department,StringType), (DistanceFromHome,IntegerType), (Education,IntegerType), (EducationField,StringType), (EmployeeCount,IntegerType), (EmployeeNumber,IntegerType), (EnvironmentSatisfaction,IntegerType), (Gender,StringType), (HourlyRate,IntegerType), (JobInvolvement,IntegerType), (JobLevel,IntegerType), (JobRole,StringType), (JobSatisfaction,IntegerType), (MaritalStatus,StringType), (MonthlyIncome,IntegerType), (MonthlyRate,IntegerType), (NumCompaniesWorked,IntegerType), (Over18,StringType), (OverTime,StringType), (PercentSalaryHike,IntegerType), (PerformanceRating,IntegerType), (RelationshipSatisfaction,IntegerType), (StandardHours,IntegerType), (S...\n"
      ]
     },
     "execution_count": 11,
     "metadata": {},
     "output_type": "execute_result"
    }
   ],
   "source": [
    "data.dtypes"
   ]
  },
  {
   "cell_type": "code",
   "execution_count": 12,
   "metadata": {},
   "outputs": [
    {
     "data": {
      "text/plain": [
       "res9: org.apache.spark.sql.DataFrame = [summary: string, Age: string ... 34 more fields]\n"
      ]
     },
     "execution_count": 12,
     "metadata": {},
     "output_type": "execute_result"
    }
   ],
   "source": [
    "data.describe()"
   ]
  },
  {
   "cell_type": "code",
   "execution_count": 7,
   "metadata": {},
   "outputs": [
    {
     "name": "stdout",
     "output_type": "stream",
     "text": [
      "root\n",
      " |-- Age: integer (nullable = true)\n",
      " |-- Attrition: string (nullable = true)\n",
      " |-- BusinessTravel: string (nullable = true)\n",
      " |-- DailyRate: integer (nullable = true)\n",
      " |-- Department: string (nullable = true)\n",
      " |-- DistanceFromHome: integer (nullable = true)\n",
      " |-- Education: integer (nullable = true)\n",
      " |-- EducationField: string (nullable = true)\n",
      " |-- EmployeeCount: integer (nullable = true)\n",
      " |-- EmployeeNumber: integer (nullable = true)\n",
      " |-- EnvironmentSatisfaction: integer (nullable = true)\n",
      " |-- Gender: string (nullable = true)\n",
      " |-- HourlyRate: integer (nullable = true)\n",
      " |-- JobInvolvement: integer (nullable = true)\n",
      " |-- JobLevel: integer (nullable = true)\n",
      " |-- JobRole: string (nullable = true)\n",
      " |-- JobSatisfaction: integer (nullable = true)\n",
      " |-- MaritalStatus: string (nullable = true)\n",
      " |-- MonthlyIncome: integer (nullable = true)\n",
      " |-- MonthlyRate: integer (nullable = true)\n",
      " |-- NumCompaniesWorked: integer (nullable = true)\n",
      " |-- Over18: string (nullable = true)\n",
      " |-- OverTime: string (nullable = true)\n",
      " |-- PercentSalaryHike: integer (nullable = true)\n",
      " |-- PerformanceRating: integer (nullable = true)\n",
      " |-- RelationshipSatisfaction: integer (nullable = true)\n",
      " |-- StandardHours: integer (nullable = true)\n",
      " |-- StockOptionLevel: integer (nullable = true)\n",
      " |-- TotalWorkingYears: integer (nullable = true)\n",
      " |-- TrainingTimesLastYear: integer (nullable = true)\n",
      " |-- WorkLifeBalance: integer (nullable = true)\n",
      " |-- YearsAtCompany: integer (nullable = true)\n",
      " |-- YearsInCurrentRole: integer (nullable = true)\n",
      " |-- YearsSinceLastPromotion: integer (nullable = true)\n",
      " |-- YearsWithCurrManager: integer (nullable = true)\n",
      "\n"
     ]
    }
   ],
   "source": [
    "data.printSchema()"
   ]
  },
  {
   "cell_type": "code",
   "execution_count": 8,
   "metadata": {},
   "outputs": [
    {
     "name": "stdout",
     "output_type": "stream",
     "text": [
      "+---+\n",
      "|Age|\n",
      "+---+\n",
      "| 41|\n",
      "| 49|\n",
      "| 37|\n",
      "| 33|\n",
      "| 27|\n",
      "| 32|\n",
      "| 59|\n",
      "| 30|\n",
      "| 38|\n",
      "| 36|\n",
      "+---+\n",
      "only showing top 10 rows\n",
      "\n"
     ]
    }
   ],
   "source": [
    "data.select(\"Age\").show(10)"
   ]
  },
  {
   "cell_type": "code",
   "execution_count": 9,
   "metadata": {},
   "outputs": [
    {
     "name": "stdout",
     "output_type": "stream",
     "text": [
      "+--------------------+-----+\n",
      "|          Department|count|\n",
      "+--------------------+-----+\n",
      "|               Sales|  446|\n",
      "|Research & Develo...|  961|\n",
      "|     Human Resources|   63|\n",
      "+--------------------+-----+\n",
      "\n"
     ]
    }
   ],
   "source": [
    "data.groupBy(\"Department\").count().show()"
   ]
  },
  {
   "cell_type": "code",
   "execution_count": 10,
   "metadata": {},
   "outputs": [
    {
     "name": "stdout",
     "output_type": "stream",
     "text": [
      "+---------+-----+\n",
      "|Attrition|count|\n",
      "+---------+-----+\n",
      "|       No| 1233|\n",
      "|      Yes|  237|\n",
      "+---------+-----+\n",
      "\n"
     ]
    }
   ],
   "source": [
    "data.groupBy(\"Attrition\").count().show()"
   ]
  },
  {
   "cell_type": "code",
   "execution_count": 11,
   "metadata": {},
   "outputs": [
    {
     "data": {
      "text/plain": [
       "import org.apache.spark.sql.functions._\n",
       "data2: org.apache.spark.sql.DataFrame = [Age: int, Attrition: int ... 33 more fields]\n"
      ]
     },
     "execution_count": 11,
     "metadata": {},
     "output_type": "execute_result"
    }
   ],
   "source": [
    "import org.apache.spark.sql.functions._\n",
    "val data2 = data.withColumn( \"Attrition\", when($\"Attrition\" === \"Yes\", 1).otherwise(0))"
   ]
  },
  {
   "cell_type": "code",
   "execution_count": 12,
   "metadata": {},
   "outputs": [
    {
     "name": "stdout",
     "output_type": "stream",
     "text": [
      "+---------+-----+\n",
      "|Attrition|count|\n",
      "+---------+-----+\n",
      "|        1|  237|\n",
      "|        0| 1233|\n",
      "+---------+-----+\n",
      "\n"
     ]
    }
   ],
   "source": [
    "data2.groupBy(\"Attrition\").count().show()"
   ]
  },
  {
   "cell_type": "code",
   "execution_count": 13,
   "metadata": {},
   "outputs": [
    {
     "name": "stdout",
     "output_type": "stream",
     "text": [
      "+--------------------+-----+\n",
      "|          Department|count|\n",
      "+--------------------+-----+\n",
      "|               Sales|  446|\n",
      "|Research & Develo...|  961|\n",
      "|     Human Resources|   63|\n",
      "+--------------------+-----+\n",
      "\n"
     ]
    }
   ],
   "source": [
    "data2.groupBy(\"Department\").count().show()"
   ]
  },
  {
   "cell_type": "code",
   "execution_count": 14,
   "metadata": {},
   "outputs": [
    {
     "name": "stdout",
     "output_type": "stream",
     "text": [
      "+------+-----+\n",
      "|Gender|count|\n",
      "+------+-----+\n",
      "|Female|  588|\n",
      "|  Male|  882|\n",
      "+------+-----+\n",
      "\n"
     ]
    }
   ],
   "source": [
    "data2.groupBy(\"Gender\").count().show()"
   ]
  },
  {
   "cell_type": "code",
   "execution_count": 15,
   "metadata": {},
   "outputs": [
    {
     "name": "stdout",
     "output_type": "stream",
     "text": [
      "+---+---------+-----------------+---------+--------------------+----------------+---------+--------------+-------------+--------------+-----------------------+------+----------+--------------+--------+--------------------+---------------+-------------+-------------+-----------+------------------+------+--------+-----------------+-----------------+------------------------+-------------+----------------+-----------------+---------------------+---------------+--------------+------------------+-----------------------+--------------------+---------+---------------+--------------------+------------------+---------------+-----------------+----------------+--------------+----------------------+--------------------+---------------+-------------+--------------------+------------------+-------------------+-----------------+--------------------+-------------------+-----------------------------+---------------------------+------------+-------------+----------------+---------------+--------------------+------------------+--------------+-------------+-------------+-------------+---------------------+-------------------+-------------------+-----------------+-------------------+-------------------+-----------------+-------------------+------------------------+----------------------+------------+-------------+--------------+-------------+-----------------------+---------------------+-----------------------+---------------------+------------------------------+----------------------------+-------------------+-----------------+----------------------+--------------------+-----------------------+---------------------+---------------------------+-------------------------+---------------------+-------------------+--------------------+------------------+------------------------+----------------------+-----------------------------+---------------------------+--------------------------+------------------------+\n",
      "|Age|Attrition|   BusinessTravel|DailyRate|          Department|DistanceFromHome|Education|EducationField|EmployeeCount|EmployeeNumber|EnvironmentSatisfaction|Gender|HourlyRate|JobInvolvement|JobLevel|             JobRole|JobSatisfaction|MaritalStatus|MonthlyIncome|MonthlyRate|NumCompaniesWorked|Over18|OverTime|PercentSalaryHike|PerformanceRating|RelationshipSatisfaction|StandardHours|StockOptionLevel|TotalWorkingYears|TrainingTimesLastYear|WorkLifeBalance|YearsAtCompany|YearsInCurrentRole|YearsSinceLastPromotion|YearsWithCurrManager|Age_index|        Age_vec|BusinessTravel_index|BusinessTravel_vec|DailyRate_index|    DailyRate_vec|Department_index|Department_vec|DistanceFromHome_index|DistanceFromHome_vec|Education_index|Education_vec|EducationField_index|EducationField_vec|EmployeeCount_index|EmployeeCount_vec|EmployeeNumber_index| EmployeeNumber_vec|EnvironmentSatisfaction_index|EnvironmentSatisfaction_vec|Gender_index|   Gender_vec|HourlyRate_index| HourlyRate_vec|JobInvolvement_index|JobInvolvement_vec|JobLevel_index| JobLevel_vec|JobRole_index|  JobRole_vec|JobSatisfaction_index|JobSatisfaction_vec|MaritalStatus_index|MaritalStatus_vec|MonthlyIncome_index|  MonthlyIncome_vec|MonthlyRate_index|    MonthlyRate_vec|NumCompaniesWorked_index|NumCompaniesWorked_vec|Over18_index|   Over18_vec|OverTime_index| OverTime_vec|PercentSalaryHike_index|PercentSalaryHike_vec|PerformanceRating_index|PerformanceRating_vec|RelationshipSatisfaction_index|RelationshipSatisfaction_vec|StandardHours_index|StandardHours_vec|StockOptionLevel_index|StockOptionLevel_vec|TotalWorkingYears_index|TotalWorkingYears_vec|TrainingTimesLastYear_index|TrainingTimesLastYear_vec|WorkLifeBalance_index|WorkLifeBalance_vec|YearsAtCompany_index|YearsAtCompany_vec|YearsInCurrentRole_index|YearsInCurrentRole_vec|YearsSinceLastPromotion_index|YearsSinceLastPromotion_vec|YearsWithCurrManager_index|YearsWithCurrManager_vec|\n",
      "+---+---------+-----------------+---------+--------------------+----------------+---------+--------------+-------------+--------------+-----------------------+------+----------+--------------+--------+--------------------+---------------+-------------+-------------+-----------+------------------+------+--------+-----------------+-----------------+------------------------+-------------+----------------+-----------------+---------------------+---------------+--------------+------------------+-----------------------+--------------------+---------+---------------+--------------------+------------------+---------------+-----------------+----------------+--------------+----------------------+--------------------+---------------+-------------+--------------------+------------------+-------------------+-----------------+--------------------+-------------------+-----------------------------+---------------------------+------------+-------------+----------------+---------------+--------------------+------------------+--------------+-------------+-------------+-------------+---------------------+-------------------+-------------------+-----------------+-------------------+-------------------+-----------------+-------------------+------------------------+----------------------+------------+-------------+--------------+-------------+-----------------------+---------------------+-----------------------+---------------------+------------------------------+----------------------------+-------------------+-----------------+----------------------+--------------------+-----------------------+---------------------+---------------------------+-------------------------+---------------------+-------------------+--------------------+------------------+------------------------+----------------------+-----------------------------+---------------------------+--------------------------+------------------------+\n",
      "| 41|        1|    Travel_Rarely|     1102|               Sales|               1|        2| Life Sciences|            1|             1|                      2|Female|        94|             3|       2|     Sales Executive|              4|       Single|         5993|      19479|                 8|     Y|     Yes|               11|                3|                       1|           80|               0|                8|                    0|              1|             6|                 4|                      0|                   5|     16.0|(43,[16],[1.0])|                 0.0|     (3,[0],[1.0])|          450.0|(886,[450],[1.0])|             1.0| (3,[1],[1.0])|                   1.0|      (29,[1],[1.0])|            2.0|(5,[2],[1.0])|                 0.0|     (6,[0],[1.0])|                0.0|    (1,[0],[1.0])|                 0.0|   (1470,[0],[1.0])|                          2.0|              (4,[2],[1.0])|         1.0|(2,[1],[1.0])|            28.0|(71,[28],[1.0])|                 0.0|     (4,[0],[1.0])|           1.0|(5,[1],[1.0])|          0.0|(9,[0],[1.0])|                  0.0|      (4,[0],[1.0])|                1.0|    (3,[1],[1.0])|               99.0|  (1349,[99],[1.0])|            559.0| (1427,[559],[1.0])|                     9.0|        (10,[9],[1.0])|         0.0|(1,[0],[1.0])|           1.0|(2,[1],[1.0])|                    0.0|       (15,[0],[1.0])|                    0.0|        (2,[0],[1.0])|                           3.0|               (4,[3],[1.0])|                0.0|    (1,[0],[1.0])|                   0.0|       (4,[0],[1.0])|                    2.0|       (40,[2],[1.0])|                        6.0|            (7,[6],[1.0])|                  3.0|      (4,[3],[1.0])|                 9.0|    (37,[9],[1.0])|                     4.0|        (19,[4],[1.0])|                          0.0|             (16,[0],[1.0])|                       8.0|          (18,[8],[1.0])|\n",
      "| 49|        0|Travel_Frequently|      279|Research & Develo...|               8|        1| Life Sciences|            1|             2|                      3|  Male|        61|             2|       2|  Research Scientist|              2|      Married|         5130|      24907|                 1|     Y|      No|               23|                4|                       4|           80|               1|               10|                    3|              3|            10|                 7|                      1|                   7|     25.0|(43,[25],[1.0])|                 1.0|     (3,[1],[1.0])|          646.0|(886,[646],[1.0])|             0.0| (3,[0],[1.0])|                   6.0|      (29,[6],[1.0])|            3.0|(5,[3],[1.0])|                 0.0|     (6,[0],[1.0])|                0.0|    (1,[0],[1.0])|               786.0| (1470,[786],[1.0])|                          0.0|              (4,[0],[1.0])|         0.0|(2,[0],[1.0])|            35.0|(71,[35],[1.0])|                 1.0|     (4,[1],[1.0])|           1.0|(5,[1],[1.0])|          1.0|(9,[1],[1.0])|                  3.0|      (4,[3],[1.0])|                0.0|    (3,[0],[1.0])|              986.0| (1349,[986],[1.0])|            900.0| (1427,[900],[1.0])|                     0.0|        (10,[0],[1.0])|         0.0|(1,[0],[1.0])|           0.0|(2,[0],[1.0])|                   12.0|      (15,[12],[1.0])|                    1.0|        (2,[1],[1.0])|                           1.0|               (4,[1],[1.0])|                0.0|    (1,[0],[1.0])|                   1.0|       (4,[1],[1.0])|                    0.0|       (40,[0],[1.0])|                        1.0|            (7,[1],[1.0])|                  0.0|      (4,[0],[1.0])|                 4.0|    (37,[4],[1.0])|                     2.0|        (19,[2],[1.0])|                          1.0|             (16,[1],[1.0])|                       2.0|          (18,[2],[1.0])|\n",
      "| 37|        1|    Travel_Rarely|     1373|Research & Develo...|               2|        2|         Other|            1|             4|                      4|  Male|        92|             2|       1|Laboratory Techni...|              3|       Single|         2090|       2396|                 6|     Y|     Yes|               15|                3|                       2|           80|               0|                7|                    3|              3|             0|                 0|                      0|                   0|     10.0|(43,[10],[1.0])|                 0.0|     (3,[0],[1.0])|          214.0|(886,[214],[1.0])|             0.0| (3,[0],[1.0])|                   0.0|      (29,[0],[1.0])|            2.0|(5,[2],[1.0])|                 4.0|     (6,[4],[1.0])|                0.0|    (1,[0],[1.0])|               997.0| (1470,[997],[1.0])|                          1.0|              (4,[1],[1.0])|         0.0|(2,[0],[1.0])|            14.0|(71,[14],[1.0])|                 1.0|     (4,[1],[1.0])|           0.0|(5,[0],[1.0])|          2.0|(9,[2],[1.0])|                  1.0|      (4,[1],[1.0])|                1.0|    (3,[1],[1.0])|              437.0| (1349,[437],[1.0])|            849.0| (1427,[849],[1.0])|                     6.0|        (10,[6],[1.0])|         0.0|(1,[0],[1.0])|           1.0|(2,[1],[1.0])|                    4.0|       (15,[4],[1.0])|                    0.0|        (2,[0],[1.0])|                           2.0|               (4,[2],[1.0])|                0.0|    (1,[0],[1.0])|                   0.0|       (4,[0],[1.0])|                    6.0|       (40,[6],[1.0])|                        1.0|            (7,[1],[1.0])|                  0.0|      (4,[0],[1.0])|                10.0|   (37,[10],[1.0])|                     1.0|        (19,[1],[1.0])|                          0.0|             (16,[0],[1.0])|                       1.0|          (18,[1],[1.0])|\n",
      "| 33|        0|Travel_Frequently|     1392|Research & Develo...|               3|        4| Life Sciences|            1|             5|                      4|Female|        56|             3|       1|  Research Scientist|              3|      Married|         2909|      23159|                 1|     Y|     Yes|               11|                3|                       3|           80|               0|                8|                    3|              3|             8|                 7|                      3|                   0|      7.0| (43,[7],[1.0])|                 1.0|     (3,[1],[1.0])|          560.0|(886,[560],[1.0])|             0.0| (3,[0],[1.0])|                   4.0|      (29,[4],[1.0])|            1.0|(5,[1],[1.0])|                 0.0|     (6,[0],[1.0])|                0.0|    (1,[0],[1.0])|              1088.0|(1470,[1088],[1.0])|                          1.0|              (4,[1],[1.0])|         1.0|(2,[1],[1.0])|            10.0|(71,[10],[1.0])|                 0.0|     (4,[0],[1.0])|           0.0|(5,[0],[1.0])|          1.0|(9,[1],[1.0])|                  1.0|      (4,[1],[1.0])|                0.0|    (3,[0],[1.0])|               52.0|  (1349,[52],[1.0])|            793.0| (1427,[793],[1.0])|                     0.0|        (10,[0],[1.0])|         0.0|(1,[0],[1.0])|           1.0|(2,[1],[1.0])|                    0.0|       (15,[0],[1.0])|                    0.0|        (2,[0],[1.0])|                           0.0|               (4,[0],[1.0])|                0.0|    (1,[0],[1.0])|                   0.0|       (4,[0],[1.0])|                    2.0|       (40,[2],[1.0])|                        1.0|            (7,[1],[1.0])|                  0.0|      (4,[0],[1.0])|                 8.0|    (37,[8],[1.0])|                     2.0|        (19,[2],[1.0])|                          5.0|             (16,[5],[1.0])|                       1.0|          (18,[1],[1.0])|\n",
      "| 27|        0|    Travel_Rarely|      591|Research & Develo...|               2|        1|       Medical|            1|             7|                      1|  Male|        40|             3|       1|Laboratory Techni...|              2|      Married|         3468|      16632|                 9|     Y|      No|               12|                3|                       4|           80|               1|                6|                    3|              3|             2|                 2|                      2|                   2|     11.0|(43,[11],[1.0])|                 0.0|     (3,[0],[1.0])|          333.0|(886,[333],[1.0])|             0.0| (3,[0],[1.0])|                   0.0|      (29,[0],[1.0])|            3.0|(5,[3],[1.0])|                 1.0|     (6,[1],[1.0])|                0.0|    (1,[0],[1.0])|              1240.0|(1470,[1240],[1.0])|                          3.0|              (4,[3],[1.0])|         0.0|(2,[0],[1.0])|            50.0|(71,[50],[1.0])|                 0.0|     (4,[0],[1.0])|           0.0|(5,[0],[1.0])|          2.0|(9,[2],[1.0])|                  3.0|      (4,[3],[1.0])|                0.0|    (3,[0],[1.0])|              723.0| (1349,[723],[1.0])|            408.0| (1427,[408],[1.0])|                     8.0|        (10,[8],[1.0])|         0.0|(1,[0],[1.0])|           0.0|(2,[0],[1.0])|                    3.0|       (15,[3],[1.0])|                    0.0|        (2,[0],[1.0])|                           1.0|               (4,[1],[1.0])|                0.0|    (1,[0],[1.0])|                   1.0|       (4,[1],[1.0])|                    1.0|       (40,[1],[1.0])|                        1.0|            (7,[1],[1.0])|                  0.0|      (4,[0],[1.0])|                 3.0|    (37,[3],[1.0])|                     0.0|        (19,[0],[1.0])|                          2.0|             (16,[2],[1.0])|                       0.0|          (18,[0],[1.0])|\n"
     ]
    },
    {
     "name": "stdout",
     "output_type": "stream",
     "text": [
      "| 32|        0|Travel_Frequently|     1005|Research & Develo...|               2|        2| Life Sciences|            1|             8|                      4|  Male|        79|             3|       1|Laboratory Techni...|              4|       Single|         3068|      11864|                 0|     Y|      No|               13|                3|                       3|           80|               0|                8|                    2|              2|             7|                 7|                      3|                   6|      5.0| (43,[5],[1.0])|                 1.0|     (3,[1],[1.0])|           35.0| (886,[35],[1.0])|             0.0| (3,[0],[1.0])|                   0.0|      (29,[0],[1.0])|            2.0|(5,[2],[1.0])|                 0.0|     (6,[0],[1.0])|                0.0|    (1,[0],[1.0])|              1314.0|(1470,[1314],[1.0])|                          1.0|              (4,[1],[1.0])|         0.0|(2,[0],[1.0])|             6.0| (71,[6],[1.0])|                 0.0|     (4,[0],[1.0])|           0.0|(5,[0],[1.0])|          2.0|(9,[2],[1.0])|                  0.0|      (4,[0],[1.0])|                1.0|    (3,[1],[1.0])|              676.0| (1349,[676],[1.0])|            136.0| (1427,[136],[1.0])|                     1.0|        (10,[1],[1.0])|         0.0|(1,[0],[1.0])|           0.0|(2,[0],[1.0])|                    1.0|       (15,[1],[1.0])|                    0.0|        (2,[0],[1.0])|                           0.0|               (4,[0],[1.0])|                0.0|    (1,[0],[1.0])|                   0.0|       (4,[0],[1.0])|                    2.0|       (40,[2],[1.0])|                        0.0|            (7,[0],[1.0])|                  1.0|      (4,[1],[1.0])|                 6.0|    (37,[6],[1.0])|                     2.0|        (19,[2],[1.0])|                          5.0|             (16,[5],[1.0])|                       9.0|          (18,[9],[1.0])|\n",
      "| 59|        0|    Travel_Rarely|     1324|Research & Develo...|               3|        3|       Medical|            1|            10|                      3|Female|        81|             4|       1|Laboratory Techni...|              1|      Married|         2670|       9964|                 4|     Y|     Yes|               20|                4|                       1|           80|               3|               12|                    3|              2|             1|                 0|                      0|                   0|     38.0|(43,[38],[1.0])|                 0.0|     (3,[0],[1.0])|          530.0|(886,[530],[1.0])|             0.0| (3,[0],[1.0])|                   4.0|      (29,[4],[1.0])|            0.0|(5,[0],[1.0])|                 1.0|     (6,[1],[1.0])|                0.0|    (1,[0],[1.0])|                 1.0|   (1470,[1],[1.0])|                          0.0|              (4,[0],[1.0])|         1.0|(2,[1],[1.0])|            25.0|(71,[25],[1.0])|                 2.0|     (4,[2],[1.0])|           0.0|(5,[0],[1.0])|          2.0|(9,[2],[1.0])|                  2.0|      (4,[2],[1.0])|                0.0|    (3,[0],[1.0])|              583.0| (1349,[583],[1.0])|           1423.0|(1427,[1423],[1.0])|                     4.0|        (10,[4],[1.0])|         0.0|(1,[0],[1.0])|           1.0|(2,[1],[1.0])|                   10.0|      (15,[10],[1.0])|                    1.0|        (2,[1],[1.0])|                           3.0|               (4,[3],[1.0])|                0.0|    (1,[0],[1.0])|                   3.0|       (4,[3],[1.0])|                    8.0|       (40,[8],[1.0])|                        1.0|            (7,[1],[1.0])|                  1.0|      (4,[1],[1.0])|                 1.0|    (37,[1],[1.0])|                     1.0|        (19,[1],[1.0])|                          0.0|             (16,[0],[1.0])|                       1.0|          (18,[1],[1.0])|\n",
      "| 30|        0|    Travel_Rarely|     1358|Research & Develo...|              24|        1| Life Sciences|            1|            11|                      4|  Male|        67|             3|       1|Laboratory Techni...|              3|     Divorced|         2693|      13335|                 1|     Y|      No|               22|                4|                       2|           80|               1|                1|                    2|              3|             1|                 0|                      0|                   0|      6.0| (43,[6],[1.0])|                 0.0|     (3,[0],[1.0])|          209.0|(886,[209],[1.0])|             0.0| (3,[0],[1.0])|                  12.0|     (29,[12],[1.0])|            3.0|(5,[3],[1.0])|                 0.0|     (6,[0],[1.0])|                0.0|    (1,[0],[1.0])|                84.0|  (1470,[84],[1.0])|                          1.0|              (4,[1],[1.0])|         0.0|(2,[0],[1.0])|            44.0|(71,[44],[1.0])|                 0.0|     (4,[0],[1.0])|           0.0|(5,[0],[1.0])|          2.0|(9,[2],[1.0])|                  1.0|      (4,[1],[1.0])|                2.0|    (3,[2],[1.0])|               46.0|  (1349,[46],[1.0])|            214.0| (1427,[214],[1.0])|                     0.0|        (10,[0],[1.0])|         0.0|(1,[0],[1.0])|           0.0|(2,[0],[1.0])|                    9.0|       (15,[9],[1.0])|                    1.0|        (2,[1],[1.0])|                           2.0|               (4,[2],[1.0])|                0.0|    (1,[0],[1.0])|                   1.0|       (4,[1],[1.0])|                    5.0|       (40,[5],[1.0])|                        0.0|            (7,[0],[1.0])|                  0.0|      (4,[0],[1.0])|                 1.0|    (37,[1],[1.0])|                     1.0|        (19,[1],[1.0])|                          0.0|             (16,[0],[1.0])|                       1.0|          (18,[1],[1.0])|\n",
      "| 38|        0|Travel_Frequently|      216|Research & Develo...|              23|        3| Life Sciences|            1|            12|                      4|  Male|        44|             2|       3|Manufacturing Dir...|              3|       Single|         9526|       8787|                 0|     Y|      No|               21|                4|                       2|           80|               0|               10|                    2|              3|             9|                 7|                      1|                   8|      8.0| (43,[8],[1.0])|                 1.0|     (3,[1],[1.0])|           80.0| (886,[80],[1.0])|             0.0| (3,[0],[1.0])|                  13.0|     (29,[13],[1.0])|            0.0|(5,[0],[1.0])|                 0.0|     (6,[0],[1.0])|                0.0|    (1,[0],[1.0])|               158.0| (1470,[158],[1.0])|                          1.0|              (4,[1],[1.0])|         0.0|(2,[0],[1.0])|            51.0|(71,[51],[1.0])|                 1.0|     (4,[1],[1.0])|           2.0|(5,[2],[1.0])|          3.0|(9,[3],[1.0])|                  1.0|      (4,[1],[1.0])|                1.0|    (3,[1],[1.0])|             1317.0|(1349,[1317],[1.0])|           1354.0|(1427,[1354],[1.0])|                     1.0|        (10,[1],[1.0])|         0.0|(1,[0],[1.0])|           0.0|(2,[0],[1.0])|                   11.0|      (15,[11],[1.0])|                    1.0|        (2,[1],[1.0])|                           2.0|               (4,[2],[1.0])|                0.0|    (1,[0],[1.0])|                   0.0|       (4,[0],[1.0])|                    0.0|       (40,[0],[1.0])|                        0.0|            (7,[0],[1.0])|                  0.0|      (4,[0],[1.0])|                 7.0|    (37,[7],[1.0])|                     2.0|        (19,[2],[1.0])|                          1.0|             (16,[1],[1.0])|                       4.0|          (18,[4],[1.0])|\n"
     ]
    },
    {
     "name": "stdout",
     "output_type": "stream",
     "text": [
      "| 36|        0|    Travel_Rarely|     1299|Research & Develo...|              27|        3|       Medical|            1|            13|                      3|  Male|        94|             3|       2|Healthcare Repres...|              3|      Married|         5237|      16577|                 6|     Y|      No|               13|                3|                       2|           80|               2|               17|                    3|              2|             7|                 7|                      7|                   7|      3.0| (43,[3],[1.0])|                 0.0|     (3,[0],[1.0])|          523.0|(886,[523],[1.0])|             0.0| (3,[0],[1.0])|                  28.0|     (29,[28],[1.0])|            0.0|(5,[0],[1.0])|                 1.0|     (6,[1],[1.0])|                0.0|    (1,[0],[1.0])|               242.0| (1470,[242],[1.0])|                          0.0|              (4,[0],[1.0])|         0.0|(2,[0],[1.0])|            28.0|(71,[28],[1.0])|                 0.0|     (4,[0],[1.0])|           1.0|(5,[1],[1.0])|          4.0|(9,[4],[1.0])|                  1.0|      (4,[1],[1.0])|                0.0|    (3,[0],[1.0])|             1003.0|(1349,[1003],[1.0])|            403.0| (1427,[403],[1.0])|                     6.0|        (10,[6],[1.0])|         0.0|(1,[0],[1.0])|           0.0|(2,[0],[1.0])|                    1.0|       (15,[1],[1.0])|                    0.0|        (2,[0],[1.0])|                           2.0|               (4,[2],[1.0])|                0.0|    (1,[0],[1.0])|                   2.0|       (4,[2],[1.0])|                   15.0|      (40,[15],[1.0])|                        1.0|            (7,[1],[1.0])|                  1.0|      (4,[1],[1.0])|                 6.0|    (37,[6],[1.0])|                     2.0|        (19,[2],[1.0])|                          3.0|             (16,[3],[1.0])|                       2.0|          (18,[2],[1.0])|\n",
      "+---+---------+-----------------+---------+--------------------+----------------+---------+--------------+-------------+--------------+-----------------------+------+----------+--------------+--------+--------------------+---------------+-------------+-------------+-----------+------------------+------+--------+-----------------+-----------------+------------------------+-------------+----------------+-----------------+---------------------+---------------+--------------+------------------+-----------------------+--------------------+---------+---------------+--------------------+------------------+---------------+-----------------+----------------+--------------+----------------------+--------------------+---------------+-------------+--------------------+------------------+-------------------+-----------------+--------------------+-------------------+-----------------------------+---------------------------+------------+-------------+----------------+---------------+--------------------+------------------+--------------+-------------+-------------+-------------+---------------------+-------------------+-------------------+-----------------+-------------------+-------------------+-----------------+-------------------+------------------------+----------------------+------------+-------------+--------------+-------------+-----------------------+---------------------+-----------------------+---------------------+------------------------------+----------------------------+-------------------+-----------------+----------------------+--------------------+-----------------------+---------------------+---------------------------+-------------------------+---------------------+-------------------+--------------------+------------------+------------------------+----------------------+-----------------------------+---------------------------+--------------------------+------------------------+\n",
      "only showing top 10 rows\n",
      "\n"
     ]
    },
    {
     "data": {
      "text/plain": [
       "features: Array[String] = Array(Age, BusinessTravel, DailyRate, Department, DistanceFromHome, Education, EducationField, EmployeeCount, EmployeeNumber, EnvironmentSatisfaction, Gender, HourlyRate, JobInvolvement, JobLevel, JobRole, JobSatisfaction, MaritalStatus, MonthlyIncome, MonthlyRate, NumCompaniesWorked, Over18, OverTime, PercentSalaryHike, PerformanceRating, RelationshipSatisfaction, StandardHours, StockOptionLevel, TotalWorkingYears, TrainingTimesLastYear, WorkLifeBalance, YearsAtCompany, YearsInCurrentRole, YearsSinceLastPromotion, YearsWithCurrManager)\n",
       "encodedFeatures: Array[org.apache.spark.ml.Estimator[_ >: org.apache.spark.ml.feature.OneHotEncoderModel with org.apache.spark.ml.feature.StringIndexerModel <: org.apache.spark.ml.Model[_ >: org.apache.spark.ml.feature.OneHotEnc...\n"
      ]
     },
     "execution_count": 15,
     "metadata": {},
     "output_type": "execute_result"
    }
   ],
   "source": [
    "val features = data2.columns.filterNot(_.contains(\"Attrition\"))\n",
    "val encodedFeatures = features.flatMap{ name =>\n",
    "    \n",
    "    val indexer = new StringIndexer()\n",
    "    .setInputCol(name)\n",
    "    .setOutputCol(name + \"_index\")\n",
    "    \n",
    "    val oneHotEncoder = new OneHotEncoder()\n",
    "    .setInputCols(Array(name + \"_index\"))\n",
    "    .setOutputCols(Array(name + \"_vec\"))\n",
    "    .setDropLast(false)\n",
    "    \n",
    "    Array(indexer, oneHotEncoder)\n",
    "}\n",
    "\n",
    "val pipeline = new Pipeline().setStages(encodedFeatures)\n",
    "val indexer_model = pipeline.fit(data2)\n",
    "val data_trans = indexer_model.transform(data2)\n",
    "data_trans.show(10)"
   ]
  },
  {
   "cell_type": "code",
   "execution_count": 16,
   "metadata": {},
   "outputs": [
    {
     "name": "stdout",
     "output_type": "stream",
     "text": [
      "+------------+-----+\n",
      "|Gender_index|count|\n",
      "+------------+-----+\n",
      "|         0.0|  882|\n",
      "|         1.0|  588|\n",
      "+------------+-----+\n",
      "\n"
     ]
    }
   ],
   "source": [
    "data_trans.groupBy(\"Gender_index\").count().show()"
   ]
  },
  {
   "cell_type": "code",
   "execution_count": 17,
   "metadata": {},
   "outputs": [
    {
     "name": "stdout",
     "output_type": "stream",
     "text": [
      "+----------------+-----+\n",
      "|Department_index|count|\n",
      "+----------------+-----+\n",
      "|             0.0|  961|\n",
      "|             1.0|  446|\n",
      "|             2.0|   63|\n",
      "+----------------+-----+\n",
      "\n"
     ]
    }
   ],
   "source": [
    "data_trans.groupBy(\"Department_index\").count().show()"
   ]
  },
  {
   "cell_type": "code",
   "execution_count": 18,
   "metadata": {},
   "outputs": [
    {
     "name": "stdout",
     "output_type": "stream",
     "text": [
      "+--------------+-----+\n",
      "|Department_vec|count|\n",
      "+--------------+-----+\n",
      "| (3,[2],[1.0])|   63|\n",
      "| (3,[1],[1.0])|  446|\n",
      "| (3,[0],[1.0])|  961|\n",
      "+--------------+-----+\n",
      "\n"
     ]
    }
   ],
   "source": [
    "data_trans.groupBy(\"Department_vec\").count().show()"
   ]
  },
  {
   "cell_type": "code",
   "execution_count": 19,
   "metadata": {},
   "outputs": [
    {
     "name": "stdout",
     "output_type": "stream",
     "text": [
      "+--------------------+-----+\n",
      "|DistanceFromHome_vec|count|\n",
      "+--------------------+-----+\n",
      "|     (29,[12],[1.0])|   28|\n",
      "|     (29,[20],[1.0])|   23|\n",
      "|     (29,[26],[1.0])|   19|\n",
      "|      (29,[8],[1.0])|   64|\n",
      "|     (29,[10],[1.0])|   32|\n",
      "|     (29,[24],[1.0])|   20|\n",
      "|     (29,[27],[1.0])|   18|\n",
      "|     (29,[17],[1.0])|   25|\n",
      "|     (29,[14],[1.0])|   27|\n",
      "|      (29,[2],[1.0])|   86|\n",
      "|     (29,[19],[1.0])|   25|\n",
      "|     (29,[28],[1.0])|   12|\n",
      "|     (29,[15],[1.0])|   26|\n",
      "|     (29,[21],[1.0])|   22|\n",
      "|      (29,[4],[1.0])|   84|\n",
      "|      (29,[7],[1.0])|   65|\n",
      "|     (29,[23],[1.0])|   20|\n",
      "|     (29,[18],[1.0])|   25|\n",
      "|      (29,[6],[1.0])|   80|\n",
      "|      (29,[3],[1.0])|   85|\n",
      "+--------------------+-----+\n",
      "only showing top 20 rows\n",
      "\n"
     ]
    }
   ],
   "source": [
    "data_trans.groupBy(\"DistanceFromHome_vec\").count().show()"
   ]
  },
  {
   "cell_type": "code",
   "execution_count": 21,
   "metadata": {},
   "outputs": [
    {
     "name": "stdout",
     "output_type": "stream",
     "text": [
      "root\n",
      " |-- Age: integer (nullable = true)\n",
      " |-- Attrition: integer (nullable = false)\n",
      " |-- BusinessTravel: string (nullable = true)\n",
      " |-- DailyRate: integer (nullable = true)\n",
      " |-- Department: string (nullable = true)\n",
      " |-- DistanceFromHome: integer (nullable = true)\n",
      " |-- Education: integer (nullable = true)\n",
      " |-- EducationField: string (nullable = true)\n",
      " |-- EmployeeCount: integer (nullable = true)\n",
      " |-- EmployeeNumber: integer (nullable = true)\n",
      " |-- EnvironmentSatisfaction: integer (nullable = true)\n",
      " |-- Gender: string (nullable = true)\n",
      " |-- HourlyRate: integer (nullable = true)\n",
      " |-- JobInvolvement: integer (nullable = true)\n",
      " |-- JobLevel: integer (nullable = true)\n",
      " |-- JobRole: string (nullable = true)\n",
      " |-- JobSatisfaction: integer (nullable = true)\n",
      " |-- MaritalStatus: string (nullable = true)\n",
      " |-- MonthlyIncome: integer (nullable = true)\n",
      " |-- MonthlyRate: integer (nullable = true)\n",
      " |-- NumCompaniesWorked: integer (nullable = true)\n",
      " |-- Over18: string (nullable = true)\n",
      " |-- OverTime: string (nullable = true)\n",
      " |-- PercentSalaryHike: integer (nullable = true)\n",
      " |-- PerformanceRating: integer (nullable = true)\n",
      " |-- RelationshipSatisfaction: integer (nullable = true)\n",
      " |-- StandardHours: integer (nullable = true)\n",
      " |-- StockOptionLevel: integer (nullable = true)\n",
      " |-- TotalWorkingYears: integer (nullable = true)\n",
      " |-- TrainingTimesLastYear: integer (nullable = true)\n",
      " |-- WorkLifeBalance: integer (nullable = true)\n",
      " |-- YearsAtCompany: integer (nullable = true)\n",
      " |-- YearsInCurrentRole: integer (nullable = true)\n",
      " |-- YearsSinceLastPromotion: integer (nullable = true)\n",
      " |-- YearsWithCurrManager: integer (nullable = true)\n",
      " |-- Age_index: double (nullable = false)\n",
      " |-- Age_vec: vector (nullable = true)\n",
      " |-- BusinessTravel_index: double (nullable = false)\n",
      " |-- BusinessTravel_vec: vector (nullable = true)\n",
      " |-- DailyRate_index: double (nullable = false)\n",
      " |-- DailyRate_vec: vector (nullable = true)\n",
      " |-- Department_index: double (nullable = false)\n",
      " |-- Department_vec: vector (nullable = true)\n",
      " |-- DistanceFromHome_index: double (nullable = false)\n",
      " |-- DistanceFromHome_vec: vector (nullable = true)\n",
      " |-- Education_index: double (nullable = false)\n",
      " |-- Education_vec: vector (nullable = true)\n",
      " |-- EducationField_index: double (nullable = false)\n",
      " |-- EducationField_vec: vector (nullable = true)\n",
      " |-- EmployeeCount_index: double (nullable = false)\n",
      " |-- EmployeeCount_vec: vector (nullable = true)\n",
      " |-- EmployeeNumber_index: double (nullable = false)\n",
      " |-- EmployeeNumber_vec: vector (nullable = true)\n",
      " |-- EnvironmentSatisfaction_index: double (nullable = false)\n",
      " |-- EnvironmentSatisfaction_vec: vector (nullable = true)\n",
      " |-- Gender_index: double (nullable = false)\n",
      " |-- Gender_vec: vector (nullable = true)\n",
      " |-- HourlyRate_index: double (nullable = false)\n",
      " |-- HourlyRate_vec: vector (nullable = true)\n",
      " |-- JobInvolvement_index: double (nullable = false)\n",
      " |-- JobInvolvement_vec: vector (nullable = true)\n",
      " |-- JobLevel_index: double (nullable = false)\n",
      " |-- JobLevel_vec: vector (nullable = true)\n",
      " |-- JobRole_index: double (nullable = false)\n",
      " |-- JobRole_vec: vector (nullable = true)\n",
      " |-- JobSatisfaction_index: double (nullable = false)\n",
      " |-- JobSatisfaction_vec: vector (nullable = true)\n",
      " |-- MaritalStatus_index: double (nullable = false)\n",
      " |-- MaritalStatus_vec: vector (nullable = true)\n",
      " |-- MonthlyIncome_index: double (nullable = false)\n",
      " |-- MonthlyIncome_vec: vector (nullable = true)\n",
      " |-- MonthlyRate_index: double (nullable = false)\n",
      " |-- MonthlyRate_vec: vector (nullable = true)\n",
      " |-- NumCompaniesWorked_index: double (nullable = false)\n",
      " |-- NumCompaniesWorked_vec: vector (nullable = true)\n",
      " |-- Over18_index: double (nullable = false)\n",
      " |-- Over18_vec: vector (nullable = true)\n",
      " |-- OverTime_index: double (nullable = false)\n",
      " |-- OverTime_vec: vector (nullable = true)\n",
      " |-- PercentSalaryHike_index: double (nullable = false)\n",
      " |-- PercentSalaryHike_vec: vector (nullable = true)\n",
      " |-- PerformanceRating_index: double (nullable = false)\n",
      " |-- PerformanceRating_vec: vector (nullable = true)\n",
      " |-- RelationshipSatisfaction_index: double (nullable = false)\n",
      " |-- RelationshipSatisfaction_vec: vector (nullable = true)\n",
      " |-- StandardHours_index: double (nullable = false)\n",
      " |-- StandardHours_vec: vector (nullable = true)\n",
      " |-- StockOptionLevel_index: double (nullable = false)\n",
      " |-- StockOptionLevel_vec: vector (nullable = true)\n",
      " |-- TotalWorkingYears_index: double (nullable = false)\n",
      " |-- TotalWorkingYears_vec: vector (nullable = true)\n",
      " |-- TrainingTimesLastYear_index: double (nullable = false)\n",
      " |-- TrainingTimesLastYear_vec: vector (nullable = true)\n",
      " |-- WorkLifeBalance_index: double (nullable = false)\n",
      " |-- WorkLifeBalance_vec: vector (nullable = true)\n",
      " |-- YearsAtCompany_index: double (nullable = false)\n",
      " |-- YearsAtCompany_vec: vector (nullable = true)\n",
      " |-- YearsInCurrentRole_index: double (nullable = false)\n",
      " |-- YearsInCurrentRole_vec: vector (nullable = true)\n",
      " |-- YearsSinceLastPromotion_index: double (nullable = false)\n",
      " |-- YearsSinceLastPromotion_vec: vector (nullable = true)\n",
      " |-- YearsWithCurrManager_index: double (nullable = false)\n",
      " |-- YearsWithCurrManager_vec: vector (nullable = true)\n",
      "\n"
     ]
    }
   ],
   "source": [
    "data_trans.printSchema()"
   ]
  },
  {
   "cell_type": "code",
   "execution_count": 22,
   "metadata": {},
   "outputs": [
    {
     "data": {
      "text/plain": [
       "featureCols: Array[String] = Array(Age, BusinessTravel_vec, DailyRate, Department_vec, DistanceFromHome, Education, EducationField_vec, YearsAtCompany)\n",
       "assembler: org.apache.spark.ml.feature.VectorAssembler = VectorAssembler: uid=vecAssembler_e17ad508c418, handleInvalid=error, numInputCols=8\n",
       "data_fea: org.apache.spark.sql.DataFrame = [Age: int, Attrition: int ... 102 more fields]\n"
      ]
     },
     "execution_count": 22,
     "metadata": {},
     "output_type": "execute_result"
    }
   ],
   "source": [
    "val featureCols = Array(\"Age\", \"BusinessTravel_vec\", \"DailyRate\", \"Department_vec\", \"DistanceFromHome\", \"Education\", \"EducationField_vec\", \"YearsAtCompany\")\n",
    "val assembler = new VectorAssembler().setInputCols(featureCols).setOutputCol(\"features\")\n",
    "val data_fea = assembler.transform(data_trans)"
   ]
  },
  {
   "cell_type": "code",
   "execution_count": 23,
   "metadata": {},
   "outputs": [
    {
     "name": "stdout",
     "output_type": "stream",
     "text": [
      "+--------------------+\n",
      "|            features|\n",
      "+--------------------+\n",
      "|(17,[0,1,4,6,8,9,...|\n",
      "|(17,[0,2,4,5,8,9,...|\n",
      "|(17,[0,1,4,5,8,9,...|\n",
      "|(17,[0,2,4,5,8,9,...|\n",
      "|(17,[0,1,4,5,8,9,...|\n",
      "|(17,[0,2,4,5,8,9,...|\n",
      "|(17,[0,1,4,5,8,9,...|\n",
      "|(17,[0,1,4,5,8,9,...|\n",
      "|(17,[0,2,4,5,8,9,...|\n",
      "|(17,[0,1,4,5,8,9,...|\n",
      "|(17,[0,1,4,5,8,9,...|\n",
      "|(17,[0,1,4,5,8,9,...|\n",
      "|(17,[0,1,4,5,8,9,...|\n",
      "|(17,[0,1,4,5,8,9,...|\n",
      "|(17,[0,1,4,5,8,9,...|\n",
      "|(17,[0,1,4,5,8,9,...|\n",
      "|(17,[0,1,4,5,8,9,...|\n",
      "|(17,[0,3,4,5,8,9,...|\n",
      "|(17,[0,1,4,6,8,9,...|\n",
      "|(17,[0,1,4,5,8,9,...|\n",
      "+--------------------+\n",
      "only showing top 20 rows\n",
      "\n"
     ]
    }
   ],
   "source": [
    "data_fea.select(\"features\").show(20)"
   ]
  },
  {
   "cell_type": "code",
   "execution_count": 24,
   "metadata": {},
   "outputs": [
    {
     "data": {
      "text/plain": [
       "labelIndexer: org.apache.spark.ml.feature.StringIndexer = strIdx_55d8571889b0\n",
       "data_final: org.apache.spark.sql.DataFrame = [Age: int, Attrition: int ... 103 more fields]\n"
      ]
     },
     "execution_count": 24,
     "metadata": {},
     "output_type": "execute_result"
    }
   ],
   "source": [
    "val labelIndexer = new StringIndexer().setInputCol(\"Attrition\").setOutputCol(\"label\")\n",
    "val data_final = labelIndexer.fit(data_fea).transform(data_fea)"
   ]
  },
  {
   "cell_type": "code",
   "execution_count": 28,
   "metadata": {},
   "outputs": [
    {
     "name": "stdout",
     "output_type": "stream",
     "text": [
      "+-----+--------------------+\n",
      "|label|            features|\n",
      "+-----+--------------------+\n",
      "|  1.0|(17,[0,1,4,6,8,9,...|\n",
      "|  0.0|(17,[0,2,4,5,8,9,...|\n",
      "|  1.0|(17,[0,1,4,5,8,9,...|\n",
      "|  0.0|(17,[0,2,4,5,8,9,...|\n",
      "|  0.0|(17,[0,1,4,5,8,9,...|\n",
      "|  0.0|(17,[0,2,4,5,8,9,...|\n",
      "|  0.0|(17,[0,1,4,5,8,9,...|\n",
      "|  0.0|(17,[0,1,4,5,8,9,...|\n",
      "|  0.0|(17,[0,2,4,5,8,9,...|\n",
      "|  0.0|(17,[0,1,4,5,8,9,...|\n",
      "|  0.0|(17,[0,1,4,5,8,9,...|\n",
      "|  0.0|(17,[0,1,4,5,8,9,...|\n",
      "|  0.0|(17,[0,1,4,5,8,9,...|\n",
      "|  0.0|(17,[0,1,4,5,8,9,...|\n",
      "|  1.0|(17,[0,1,4,5,8,9,...|\n",
      "|  0.0|(17,[0,1,4,5,8,9,...|\n",
      "|  0.0|(17,[0,1,4,5,8,9,...|\n",
      "|  0.0|(17,[0,3,4,5,8,9,...|\n",
      "|  0.0|(17,[0,1,4,6,8,9,...|\n",
      "|  0.0|(17,[0,1,4,5,8,9,...|\n",
      "+-----+--------------------+\n",
      "only showing top 20 rows\n",
      "\n"
     ]
    }
   ],
   "source": [
    "data_final.select(\"label\", \"features\").show(20)"
   ]
  },
  {
   "cell_type": "code",
   "execution_count": 30,
   "metadata": {},
   "outputs": [
    {
     "data": {
      "text/plain": [
       "training: org.apache.spark.sql.Dataset[org.apache.spark.sql.Row] = [label: double, features: vector]\n",
       "test: org.apache.spark.sql.Dataset[org.apache.spark.sql.Row] = [label: double, features: vector]\n"
      ]
     },
     "execution_count": 30,
     "metadata": {},
     "output_type": "execute_result"
    }
   ],
   "source": [
    "val Array(training, test) = data_final.select(\"label\",\"features\").\n",
    "                            randomSplit(Array(0.7, 0.3), seed = 12345)"
   ]
  },
  {
   "cell_type": "code",
   "execution_count": 31,
   "metadata": {},
   "outputs": [
    {
     "data": {
      "text/plain": [
       "import org.apache.spark.ml.classification.LogisticRegression\n",
       "model: org.apache.spark.ml.classification.LogisticRegressionModel = LogisticRegressionModel: uid=logreg_c4ef88e2b3ad, numClasses=2, numFeatures=17\n",
       "results: org.apache.spark.sql.DataFrame = [features: vector, label: double ... 1 more field]\n"
      ]
     },
     "execution_count": 31,
     "metadata": {},
     "output_type": "execute_result"
    }
   ],
   "source": [
    "import org.apache.spark.ml.classification.LogisticRegression\n",
    "val model = new LogisticRegression().fit(training)\n",
    "val results = model.transform(test).select(\"features\", \"label\", \"prediction\")"
   ]
  },
  {
   "cell_type": "code",
   "execution_count": 32,
   "metadata": {},
   "outputs": [
    {
     "data": {
      "text/plain": [
       "predictionAndLabels: org.apache.spark.rdd.RDD[(Double, Double)] = MapPartitionsRDD[480] at rdd at <console>:44\n"
      ]
     },
     "execution_count": 32,
     "metadata": {},
     "output_type": "execute_result"
    }
   ],
   "source": [
    "val predictionAndLabels = results.\n",
    "    select($\"prediction\",$\"label\").\n",
    "    as[(Double, Double)].\n",
    "    rdd"
   ]
  },
  {
   "cell_type": "code",
   "execution_count": 33,
   "metadata": {},
   "outputs": [
    {
     "name": "stdout",
     "output_type": "stream",
     "text": [
      "Confusion matrix:\n",
      "356.0  0.0  \n",
      "74.0   3.0  \n"
     ]
    },
    {
     "data": {
      "text/plain": [
       "bMetrics: org.apache.spark.mllib.evaluation.BinaryClassificationMetrics = org.apache.spark.mllib.evaluation.BinaryClassificationMetrics@71be6e38\n",
       "mMetrics: org.apache.spark.mllib.evaluation.MulticlassMetrics = org.apache.spark.mllib.evaluation.MulticlassMetrics@4e1d1173\n",
       "labels: Array[Double] = Array(0.0, 1.0)\n"
      ]
     },
     "execution_count": 33,
     "metadata": {},
     "output_type": "execute_result"
    }
   ],
   "source": [
    "val bMetrics = new BinaryClassificationMetrics(predictionAndLabels)\n",
    "val mMetrics = new MulticlassMetrics(predictionAndLabels)\n",
    "val labels = mMetrics.labels\n",
    "\n",
    "// Print out the Confusion matrix\n",
    "println(\"Confusion matrix:\")\n",
    "println(mMetrics.confusionMatrix)"
   ]
  },
  {
   "cell_type": "code",
   "execution_count": 35,
   "metadata": {},
   "outputs": [
    {
     "name": "stdout",
     "output_type": "stream",
     "text": [
      "FPR(0.0) = 0.961038961038961\n",
      "FPR(1.0) = 0.0\n",
      "F1-Score(0.0) = 0.905852417302799\n",
      "F1-Score(1.0) = 0.07500000000000001\n"
     ]
    }
   ],
   "source": [
    "// False positive rate by label\n",
    "labels.foreach { l =>\n",
    "  println(s\"FPR($l) = \" + mMetrics.falsePositiveRate(l))\n",
    "}\n",
    "// F-measure by label\n",
    "labels.foreach { l =>\n",
    "  println(s\"F1-Score($l) = \" + mMetrics.fMeasure(l))\n",
    "}"
   ]
  },
  {
   "cell_type": "code",
   "execution_count": 36,
   "metadata": {},
   "outputs": [
    {
     "name": "stdout",
     "output_type": "stream",
     "text": [
      "Threshold: 1.0, Precision: 1.0\n",
      "Threshold: 0.0, Precision: 0.17782909930715934\n",
      "Threshold: 1.0, Recall: 0.03896103896103896\n",
      "Threshold: 0.0, Recall: 1.0\n",
      "Threshold: 1.0, F-score: 0.07500000000000001, Beta = 1\n",
      "Threshold: 0.0, F-score: 0.30196078431372547, Beta = 1\n",
      "Threshold: 1.0, F-score: 0.07500000000000001, Beta = 0.5\n",
      "Threshold: 0.0, F-score: 0.30196078431372547, Beta = 0.5\n",
      "Area under precision-recall curve = 0.6049308659008429\n",
      "Area under ROC = 0.5194805194805194\n"
     ]
    },
    {
     "data": {
      "text/plain": [
       "precision: org.apache.spark.rdd.RDD[(Double, Double)] = MapPartitionsRDD[490] at map at BinaryClassificationMetrics.scala:236\n",
       "recall: org.apache.spark.rdd.RDD[(Double, Double)] = MapPartitionsRDD[491] at map at BinaryClassificationMetrics.scala:236\n",
       "PRC: org.apache.spark.rdd.RDD[(Double, Double)] = UnionRDD[494] at union at BinaryClassificationMetrics.scala:127\n",
       "f1Score: org.apache.spark.rdd.RDD[(Double, Double)] = MapPartitionsRDD[495] at map at BinaryClassificationMetrics.scala:236\n",
       "beta: Double = 0.5\n",
       "fScore: org.apache.spark.rdd.RDD[(Double, Double)] = MapPartitionsRDD[496] at map at BinaryClassificationMetrics.scala:236\n",
       "auPRC: Double = 0.6049308659008429\n",
       "thresholds: org.apache.spark.rdd.RDD[Double] = MapPartitionsRDD[501] at map at <console>:74\n",
       "roc: org.apache.spark.rdd.RDD[(Double, Do...\n"
      ]
     },
     "execution_count": 36,
     "metadata": {},
     "output_type": "execute_result"
    }
   ],
   "source": [
    "// Precision by threshold\n",
    "val precision = bMetrics.precisionByThreshold\n",
    "precision.foreach { case (t, p) =>\n",
    "  println(s\"Threshold: $t, Precision: $p\")\n",
    "}\n",
    "\n",
    "// Recall by threshold\n",
    "val recall = bMetrics.recallByThreshold\n",
    "recall.foreach { case (t, r) =>\n",
    "  println(s\"Threshold: $t, Recall: $r\")\n",
    "}\n",
    "\n",
    "// Precision-Recall Curve\n",
    "val PRC = bMetrics.pr\n",
    "\n",
    "// F-measure\n",
    "val f1Score = bMetrics.fMeasureByThreshold\n",
    "f1Score.foreach { case (t, f) =>\n",
    "  println(s\"Threshold: $t, F-score: $f, Beta = 1\")\n",
    "}\n",
    "\n",
    "val beta = 0.5\n",
    "val fScore = bMetrics.fMeasureByThreshold(beta)\n",
    "f1Score.foreach { case (t, f) =>\n",
    "  println(s\"Threshold: $t, F-score: $f, Beta = 0.5\")\n",
    "}\n",
    "\n",
    "// AUPRC\n",
    "val auPRC = bMetrics.areaUnderPR\n",
    "println(\"Area under precision-recall curve = \" + auPRC)\n",
    "\n",
    "// Compute thresholds used in ROC and PR curves\n",
    "val thresholds = precision.map(_._1)\n",
    "\n",
    "// ROC Curve\n",
    "val roc = bMetrics.roc\n",
    "\n",
    "// AUROC\n",
    "val auROC = bMetrics.areaUnderROC\n",
    "println(\"Area under ROC = \" + auROC)"
   ]
  },
  {
   "cell_type": "code",
   "execution_count": 24,
   "metadata": {},
   "outputs": [
    {
     "name": "stdout",
     "output_type": "stream",
     "text": [
      "+--------------+--------------+-------------+-------------+\n",
      "|categoryIndex1|categoryIndex2| categoryVec1| categoryVec2|\n",
      "+--------------+--------------+-------------+-------------+\n",
      "|           0.0|           1.0|(2,[0],[1.0])|(2,[1],[1.0])|\n",
      "|           1.0|           0.0|(2,[1],[1.0])|(2,[0],[1.0])|\n",
      "|           2.0|           1.0|    (2,[],[])|(2,[1],[1.0])|\n",
      "|           0.0|           2.0|(2,[0],[1.0])|    (2,[],[])|\n",
      "|           0.0|           1.0|(2,[0],[1.0])|(2,[1],[1.0])|\n",
      "|           2.0|           0.0|    (2,[],[])|(2,[0],[1.0])|\n",
      "+--------------+--------------+-------------+-------------+\n",
      "\n"
     ]
    },
    {
     "data": {
      "text/plain": [
       "df: org.apache.spark.sql.DataFrame = [categoryIndex1: double, categoryIndex2: double]\n",
       "encoder: org.apache.spark.ml.feature.OneHotEncoder = oneHotEncoder_c94a547e62ef\n",
       "model: org.apache.spark.ml.feature.OneHotEncoderModel = OneHotEncoderModel: uid=oneHotEncoder_c94a547e62ef, dropLast=true, handleInvalid=error, numInputCols=2, numOutputCols=2\n",
       "encoded: org.apache.spark.sql.DataFrame = [categoryIndex1: double, categoryIndex2: double ... 2 more fields]\n"
      ]
     },
     "execution_count": 24,
     "metadata": {},
     "output_type": "execute_result"
    }
   ],
   "source": [
    "val df = spark.createDataFrame(Seq(\n",
    "  (0.0, 1.0),\n",
    "  (1.0, 0.0),\n",
    "  (2.0, 1.0),\n",
    "  (0.0, 2.0),\n",
    "  (0.0, 1.0),\n",
    "  (2.0, 0.0)\n",
    ")).toDF(\"categoryIndex1\", \"categoryIndex2\")\n",
    "\n",
    "val encoder = new OneHotEncoder()\n",
    "  .setInputCols(Array(\"categoryIndex1\", \"categoryIndex2\"))\n",
    "  .setOutputCols(Array(\"categoryVec1\", \"categoryVec2\"))\n",
    "val model = encoder.fit(df)\n",
    "\n",
    "val encoded = model.transform(df)\n",
    "encoded.show()"
   ]
  },
  {
   "cell_type": "code",
   "execution_count": null,
   "metadata": {},
   "outputs": [],
   "source": []
  }
 ],
 "metadata": {
  "kernelspec": {
   "display_name": "spylon-kernel",
   "language": "scala",
   "name": "spylon-kernel"
  },
  "language_info": {
   "codemirror_mode": "text/x-scala",
   "file_extension": ".scala",
   "help_links": [
    {
     "text": "MetaKernel Magics",
     "url": "https://metakernel.readthedocs.io/en/latest/source/README.html"
    }
   ],
   "mimetype": "text/x-scala",
   "name": "scala",
   "pygments_lexer": "scala",
   "version": "0.4.1"
  }
 },
 "nbformat": 4,
 "nbformat_minor": 4
}
